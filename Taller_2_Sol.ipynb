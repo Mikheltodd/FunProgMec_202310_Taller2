{
 "cells": [
  {
   "cell_type": "markdown",
   "id": "fc5bd584",
   "metadata": {},
   "source": [
    "## Solución al Taller 2 \n",
    "### Fundamentos de Programación para Ingeniería Mecánica UPB 202310\n",
    "\n",
    "- Docente: Miguel Ortiz\n",
    "- email: miguel.ortizp@upb.edu.co"
   ]
  },
  {
   "cell_type": "markdown",
   "id": "3ab3b4cb",
   "metadata": {},
   "source": [
    "## Turno 1"
   ]
  },
  {
   "cell_type": "markdown",
   "id": "8518dc26",
   "metadata": {},
   "source": [
    "### Problema 1.\n",
    "\n",
    "Calcular y mostrar la posición de una partícula que experimenta movimiento uniformemente acelerado a partir de su posición inicial (`x_0`), velocidad inicial (`v_0`) y aceleración (`a`) en dos instantes de tiempo diferentes. La posición en un instante de tiempo está dada por:\n",
    "\n",
    "$$x = x_0 + v_0 t + \\frac{1}{2} a t^2$$\n",
    "\n",
    "Crea e imprime las siguientes variables:\n",
    "- `x_1`: posición de la partícula en un tiempo `t_1 = 0`\n",
    "- `x_2`: posición de la partícula en un tiempo `t_2 = 5`\n",
    "\n",
    "Utiliza los siguientes valores: \n",
    "- `x_0 = 3`\n",
    "- `v_0 = 5`\n",
    "- `a = 6`"
   ]
  },
  {
   "cell_type": "code",
   "execution_count": 14,
   "id": "9a2b49d4",
   "metadata": {},
   "outputs": [
    {
     "name": "stdout",
     "output_type": "stream",
     "text": [
      "3.0\n",
      "103.0\n"
     ]
    }
   ],
   "source": [
    "# Variables del Problema\n",
    "# Se crean las variables utilizadas en la ecuación y se les asigna el valor indicado:\n",
    "x_0 = 3\n",
    "v_0 = 5\n",
    "a = 6\n",
    "\n",
    "# Se definen los instantes de tiempo indicados:\n",
    "t_1 = 0\n",
    "t_2 = 5\n",
    "\n",
    "# Se escriben las ecuaciones para el cálculo de la posición \n",
    "# Se utilizan las variables definidas:\n",
    "x_1 = x_0 + v_0 * t_1 + (1/2) * a * t_1 ** 2 \n",
    "x_2 = x_0 + v_0 * t_2 + (1/2) * a * t_2 ** 2\n",
    "\n",
    "# Se imprimen los valores calculados de la posición:\n",
    "print(x_1)\n",
    "print(x_2)"
   ]
  },
  {
   "cell_type": "markdown",
   "id": "cf91c869",
   "metadata": {},
   "source": [
    "### Problema 2.\n",
    "Calcular y mostrar la distancia entre dos puntos $P_1$ y $P_2$ ubicados en las coordenadas $(x_1,y_1 )$ y $(x_2,y_2 )$. La distancia euclidiana se calcula con la ecuación:\n",
    "\n",
    "$$d = \\sqrt{(x_2-x_1 )^2 + (y_2-y_1 )^2 }$$\n",
    "\n",
    "Crea e imprime las siguientes variables:\n",
    "- `d_1`: distancia entre los puntos `(2, 3)` y `(-5, 4)`\n",
    "- `d_2`: distancia entre los puntos `(0, -2)` y `(6, 1)`"
   ]
  },
  {
   "cell_type": "code",
   "execution_count": 15,
   "id": "5eeabca9",
   "metadata": {},
   "outputs": [
    {
     "name": "stdout",
     "output_type": "stream",
     "text": [
      "7.0710678118654755\n",
      "6.708203932499369\n"
     ]
    }
   ],
   "source": [
    "# Se crean las coordenadas de los puntos\n",
    "# Punto 1 para d1:\n",
    "x_11 = 2\n",
    "y_11 = 3\n",
    "# Punto 2 para d1:\n",
    "x_12 = -5\n",
    "y_12 = 4\n",
    "\n",
    "# Punto 1 para d2:\n",
    "x_21 = 0\n",
    "y_21 = -2\n",
    "# Punto 2 para d2:\n",
    "x_22 = 6\n",
    "y_22 = 1\n",
    "\n",
    "# Se escriben las ecuaciones para el cálculo de la distancia \n",
    "# Se utilizan las variables de los puntos definidos:\n",
    "d_1 = ((x_12 - x_11) ** 2 + (y_12 - y_11) ** 2) ** 0.5\n",
    "d_2 = ((x_22 - x_21) ** 2 + (y_22 - y_21) ** 2) ** 0.5\n",
    "\n",
    "# Se imprimen los valores calculados de la distancia:\n",
    "print(d_1)\n",
    "print(d_2)"
   ]
  },
  {
   "cell_type": "markdown",
   "id": "086be027",
   "metadata": {},
   "source": [
    "### Problema 3.\n",
    "\n",
    "Imprime el resultado de las siguientes operaciones lógicas:\n",
    "-\t`A > B`\n",
    "-\t`B <= C`\n",
    "-\t`A = B` y `B > C`\n",
    "-\t`A < C` o `B < C`\n",
    "-\t`C != B`\n",
    "-\t`A + D < C`\n",
    "-\t`D – C >= - A * B`\n",
    "-\t`D * C == 5` o `C * A > 9 `\n",
    "-\t`A * B + C > - D * 10`\n",
    "-\t`4 * B == C * 3`\n",
    "\n",
    "Si: `A = 5, B = 2, C = 3 y D = -2`"
   ]
  },
  {
   "cell_type": "code",
   "execution_count": 20,
   "id": "f03e3641",
   "metadata": {},
   "outputs": [
    {
     "name": "stdout",
     "output_type": "stream",
     "text": [
      "True\n",
      "True\n",
      "False\n",
      "True\n",
      "True\n",
      "False\n",
      "True\n",
      "True\n",
      "False\n",
      "False\n"
     ]
    }
   ],
   "source": [
    "# Se crean las variables a utilizar y se les asignan los valores indicados en el ejercicio\n",
    "A = 5\n",
    "B = 2\n",
    "C = 3\n",
    "D = -2\n",
    "\n",
    "# Se imprime directamente cada una de las operaciones lógicas solicitadas\n",
    "print(A > B)\n",
    "print(B <= C)\n",
    "print((A == B) and (B > C))\n",
    "print((A < C) or (B < C))\n",
    "print(C != B)\n",
    "print(A + D < C)\n",
    "print(D - C >= -A * B)\n",
    "print((D * C == 5) or (C * A > 9))\n",
    "print(A * B + C > - D * 10)\n",
    "print(4 * B == C * 3)"
   ]
  },
  {
   "cell_type": "markdown",
   "id": "c8070495",
   "metadata": {},
   "source": [
    "## Turno 2"
   ]
  },
  {
   "cell_type": "markdown",
   "id": "8d0b1257",
   "metadata": {},
   "source": [
    "### Problema 1.\n",
    "\n",
    "Calcular y mostrar la posición de una partícula que experimenta movimiento uniformemente acelerado a partir de su posición inicial (`x_0`), velocidad inicial (`v_0`) y aceleración (`a`) en dos instantes de tiempo diferentes. La posición en un instante de tiempo está dada por:\n",
    "\n",
    "$$x = x_0 + v_0 t + \\frac{1}{2} a t^2$$\n",
    "\n",
    "Crea e imprime las siguientes variables:\n",
    "- `x_1`: posición de la partícula en un tiempo `t_1 = 3`\n",
    "- `x_2`: posición de la partícula en un tiempo `t_2 = 10`\n",
    "\n",
    "Utiliza los siguientes valores: \n",
    "- `x_0 = 5`\n",
    "- `v_0 = 4`\n",
    "- `a = -2`\n"
   ]
  },
  {
   "cell_type": "code",
   "execution_count": 17,
   "id": "36164c02",
   "metadata": {
    "scrolled": true
   },
   "outputs": [
    {
     "name": "stdout",
     "output_type": "stream",
     "text": [
      "8.0\n",
      "-55.0\n"
     ]
    }
   ],
   "source": [
    "# Variables del Problema\n",
    "# Se crean las variables utilizadas en la ecuación y se les asigna el valor indicado:\n",
    "x_0 = 5\n",
    "v_0 = 4\n",
    "a = -2\n",
    "\n",
    "# Se definen los instantes de tiempo indicados:\n",
    "t_1 = 3\n",
    "t_2 = 10\n",
    "\n",
    "# Se escriben las ecuaciones para el cálculo de la posición \n",
    "# Se utilizan las variables definidas:\n",
    "x_1 = x_0 + v_0 * t_1 + (1/2) * a * t_1 ** 2 \n",
    "x_2 = x_0 + v_0 * t_2 + (1/2) * a * t_2 ** 2 \n",
    "\n",
    "# Se imprimen los valores calculados de la posición:\n",
    "print(x_1)\n",
    "print(x_2)"
   ]
  },
  {
   "cell_type": "markdown",
   "id": "a67a5be9",
   "metadata": {},
   "source": [
    "### Problema 2.\n",
    "Calcular y mostrar la distancia entre dos puntos $P_1$ y $P_2$ ubicados en las coordenadas $(x_1,y_1 )$ y $(x_2,y_2 )$. La distancia euclidiana se calcula con la ecuación:\n",
    "\n",
    "$$d = \\sqrt{(x_2-x_1 )^2 + (y_2-y_1 )^2 }$$\n",
    "\n",
    "Crea e imprime las siguientes variables:\n",
    "- `d_1`: distancia entre los puntos `(1, 1)` y `(-1, -1)`\n",
    "- `d_2`: distancia entre los puntos `(-2, 0)` y `(4, 5)`"
   ]
  },
  {
   "cell_type": "code",
   "execution_count": 18,
   "id": "10b42068",
   "metadata": {},
   "outputs": [
    {
     "name": "stdout",
     "output_type": "stream",
     "text": [
      "2.8284271247461903\n",
      "7.810249675906654\n"
     ]
    }
   ],
   "source": [
    "# Se crean las coordenadas de los puntos\n",
    "# Punto 1 para d1:\n",
    "x_11 = 1\n",
    "y_11 = 1\n",
    "# Punto 2 para d1:\n",
    "x_12 = -1\n",
    "y_12 = -1\n",
    "\n",
    "# Punto 1 para d2:\n",
    "x_21 = -2\n",
    "y_21 = 0\n",
    "# Punto 2 para d2:\n",
    "x_22 = 4\n",
    "y_22 = 5\n",
    "\n",
    "# Se escriben las ecuaciones para el cálculo de la distancia \n",
    "# Se utilizan las variables de los puntos definidos:\n",
    "d_1 = ((x_12 - x_11) ** 2 + (y_12 - y_11) ** 2) ** 0.5\n",
    "d_2 = ((x_22 - x_21) ** 2 + (y_22 - y_21) ** 2) ** 0.5\n",
    "\n",
    "# Se imprimen los valores calculados de la distancia:\n",
    "print(d_1)\n",
    "print(d_2)"
   ]
  },
  {
   "cell_type": "markdown",
   "id": "1bc7df21",
   "metadata": {},
   "source": [
    "### Problema 3.\n",
    "\n",
    "Imprime el resultado de las siguientes operaciones lógicas:\n",
    "-\t`A <= B`\n",
    "-\t`B > C`\n",
    "-\t`A != C` y `D > A`\n",
    "-\t`B < C` o `B > A`\n",
    "-\t`A != D`\n",
    "-\t`A - D > C`\n",
    "-\t`D + C >=  A * B`\n",
    "-\t`A * C == 10` o `B * A < 3` \n",
    "-\t`B * C + D > D * 5`\n",
    "-\t`2 * A == - D * 4`\n",
    "\n",
    "Si:\n",
    "`A = -3, B = 3, C = 4 y D = 0`\n"
   ]
  },
  {
   "cell_type": "code",
   "execution_count": 21,
   "id": "a0b921a8",
   "metadata": {},
   "outputs": [
    {
     "name": "stdout",
     "output_type": "stream",
     "text": [
      "True\n",
      "False\n",
      "True\n",
      "True\n",
      "True\n",
      "False\n",
      "True\n",
      "True\n",
      "True\n",
      "False\n"
     ]
    }
   ],
   "source": [
    "# Se crean las variables a utilizar y se les asignan los valores indicados en el ejercicio\n",
    "A = -3\n",
    "B = 3\n",
    "C = 4\n",
    "D = 0\n",
    "\n",
    "# Se imprime directamente cada una de las operaciones lógicas solicitadas\n",
    "print(A <= B)\n",
    "print(B > C)\n",
    "print((A != C) and (D > A))\n",
    "print((B < C) or (B > C))\n",
    "print(A != D)\n",
    "print(A - D > C)\n",
    "print(D + C >= A * B)\n",
    "print((A * C == 10) or (B * A < 3))\n",
    "print(B * C + D > D * 5)\n",
    "print(2 * A == -D * 4)"
   ]
  },
  {
   "cell_type": "code",
   "execution_count": null,
   "id": "78d3d519",
   "metadata": {},
   "outputs": [],
   "source": []
  }
 ],
 "metadata": {
  "kernelspec": {
   "display_name": "Python 3 (ipykernel)",
   "language": "python",
   "name": "python3"
  },
  "language_info": {
   "codemirror_mode": {
    "name": "ipython",
    "version": 3
   },
   "file_extension": ".py",
   "mimetype": "text/x-python",
   "name": "python",
   "nbconvert_exporter": "python",
   "pygments_lexer": "ipython3",
   "version": "3.10.6"
  }
 },
 "nbformat": 4,
 "nbformat_minor": 5
}
